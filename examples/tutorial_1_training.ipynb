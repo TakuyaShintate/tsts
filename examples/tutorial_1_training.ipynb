{
 "cells": [
  {
   "cell_type": "code",
   "execution_count": null,
   "source": [
    "import torch\n",
    "\n",
    "dataset = torch.sin(torch.arange(0.0, 100.0, 0.1))\n",
    "dataset = dataset.unsqueeze(-1)"
   ],
   "outputs": [],
   "metadata": {}
  },
  {
   "cell_type": "code",
   "execution_count": null,
   "source": [
    "from tsts.solvers import TimeSeriesForecaster\n",
    "\n",
    "# Pass config here\n",
    "forecaster = TimeSeriesForecaster(\"cfg.yml\")\n",
    "\n",
    "# Run training\n",
    "forecaster.fit([dataset])"
   ],
   "outputs": [],
   "metadata": {}
  },
  {
   "cell_type": "code",
   "execution_count": null,
   "source": [],
   "outputs": [],
   "metadata": {}
  }
 ],
 "metadata": {
  "orig_nbformat": 4,
  "language_info": {
   "name": "python",
   "version": "3.7.3",
   "mimetype": "text/x-python",
   "codemirror_mode": {
    "name": "ipython",
    "version": 3
   },
   "pygments_lexer": "ipython3",
   "nbconvert_exporter": "python",
   "file_extension": ".py"
  },
  "kernelspec": {
   "name": "python3",
   "display_name": "Python 3.7.3 64-bit ('3.7.3': pyenv)"
  },
  "interpreter": {
   "hash": "633ebebba32680a329f49620a2091e35f725e2f2d4a348ed827d92a6724c29c9"
  }
 },
 "nbformat": 4,
 "nbformat_minor": 2
}