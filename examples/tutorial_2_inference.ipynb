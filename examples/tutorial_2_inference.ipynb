{
 "cells": [
  {
   "cell_type": "code",
   "execution_count": null,
   "source": [
    "from tsts.solvers import TimeSeriesForecaster\n",
    "\n",
    "# \"cfg.yml\" is a config file made in **(Tutorial 1) Training**.\n",
    "forecaster = TimeSeriesForecaster(\"cfg.yml\")"
   ],
   "outputs": [],
   "metadata": {}
  },
  {
   "cell_type": "code",
   "execution_count": null,
   "source": [
    "import torch\n",
    "from tsts.scalers import StandardScaler\n",
    "\n",
    "# Restore training dataset\n",
    "sin_dataset = torch.sin(torch.arange(0.0, 100.0, 0.1))\n",
    "sin_dataset = sin_dataset.unsqueeze(-1)\n",
    "# NOTE: We used 0.8 for TRAINING.TRAIN_DATA_RATIO \n",
    "num_train_samples = int(0.8 * len(sin_dataset))\n",
    "sin_dataset = sin_dataset[:num_train_samples]\n",
    "\n",
    "# Run **fit** method to initialize scaler\n",
    "X_scaler = StandardScaler()\n",
    "X_scaler.fit(sin_dataset)"
   ],
   "outputs": [],
   "metadata": {}
  },
  {
   "cell_type": "code",
   "execution_count": null,
   "source": [
    "# Use next 100 steps as input\n",
    "X = torch.sin(torch.arange(100.0, 110.0, 0.1))\n",
    "X = X.unsqueeze(-1)\n",
    "\n",
    "# Use scaler initialized in previous step\n",
    "X = X_scaler.transform(X)"
   ],
   "outputs": [],
   "metadata": {}
  },
  {
   "cell_type": "code",
   "execution_count": null,
   "source": [
    "Z = forecaster.predict(X)"
   ],
   "outputs": [],
   "metadata": {}
  },
  {
   "cell_type": "code",
   "execution_count": null,
   "source": [],
   "outputs": [],
   "metadata": {}
  }
 ],
 "metadata": {
  "orig_nbformat": 4,
  "language_info": {
   "name": "python",
   "version": "3.7.3",
   "mimetype": "text/x-python",
   "codemirror_mode": {
    "name": "ipython",
    "version": 3
   },
   "pygments_lexer": "ipython3",
   "nbconvert_exporter": "python",
   "file_extension": ".py"
  },
  "kernelspec": {
   "name": "python3",
   "display_name": "Python 3.7.3 64-bit ('3.7.3': pyenv)"
  },
  "interpreter": {
   "hash": "633ebebba32680a329f49620a2091e35f725e2f2d4a348ed827d92a6724c29c9"
  }
 },
 "nbformat": 4,
 "nbformat_minor": 2
}